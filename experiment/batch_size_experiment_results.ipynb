{
 "cells": [
  {
   "cell_type": "code",
   "execution_count": 2,
   "id": "c806de28",
   "metadata": {},
   "outputs": [
    {
     "data": {
      "text/plain": [
       "Text(0.5, 1.0, 'Accuracy with regard to batch size')"
      ]
     },
     "execution_count": 2,
     "metadata": {},
     "output_type": "execute_result"
    },
    {
     "data": {
      "image/png": "[encoded data removed]",
      "text/plain": [
       "<Figure size 432x288 with 1 Axes>"
      ]
     },
     "metadata": {
      "needs_background": "light"
     },
     "output_type": "display_data"
    }
   ],
   "source": [
    "import pandas as pd\n",
    "import numpy as np\n",
    "import matplotlib.pyplot as plt\n",
    "\n",
    "batch_sizes = [8,16,32,64]\n",
    "x = []\n",
    "y = []\n",
    "yerr = []\n",
    "for size in batch_sizes:\n",
    "    file_name = f\"../results/net_2conv_2fc_batch_{size}.csv\"\n",
    "    df = pd.read_csv(file_name)\n",
    "    mean = df[\"accuracy\"].mean()\n",
    "    std = df[\"accuracy\"].std()\n",
    "    x.append(size)\n",
    "    y.append(mean)\n",
    "    yerr.append(std*3) # three sigmas\n",
    "fig = plt.figure()\n",
    "plt.errorbar(x, y, yerr=yerr, fmt='o')\n",
    "plt.ylabel(\"Accuracy\")\n",
    "plt.xlabel(\"Batch size\")\n",
    "plt.title(\"Accuracy with regard to batch size\")\n",
    "    "
   ]
  },
  {
   "cell_type": "code",
   "execution_count": null,
   "id": "ea677066",
   "metadata": {},
   "outputs": [],
   "source": []
  }
 ],
 "metadata": {
  "kernelspec": {
   "display_name": "Python 3",
   "language": "python",
   "name": "python3"
  },
  "language_info": {
   "codemirror_mode": {
    "name": "ipython",
    "version": 3
   },
   "file_extension": ".py",
   "mimetype": "text/x-python",
   "name": "python",
   "nbconvert_exporter": "python",
   "pygments_lexer": "ipython3",
   "version": "3.9.5"
  }
 },
 "nbformat": 4,
 "nbformat_minor": 5
}
