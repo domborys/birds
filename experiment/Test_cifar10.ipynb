{
 "cells": [
  {
   "cell_type": "code",
   "execution_count": 5,
   "id": "fa24507e",
   "metadata": {},
   "outputs": [
    {
     "name": "stdout",
     "output_type": "stream",
     "text": [
      "Files already downloaded and verified\n",
      "(<PIL.Image.Image image mode=RGB size=32x32 at 0x18CB2E397C0>, 1)\n"
     ]
    }
   ],
   "source": [
    "import torch\n",
    "import torchvision\n",
    "trainset = torchvision.datasets.CIFAR10(root='../data/cifar10', train=True,\n",
    "                                        download=True)\n",
    "print(trainset[5])\n"
   ]
  },
  {
   "cell_type": "code",
   "execution_count": null,
   "id": "0ef839fd",
   "metadata": {},
   "outputs": [],
   "source": []
  }
 ],
 "metadata": {
  "kernelspec": {
   "display_name": "Python 3",
   "language": "python",
   "name": "python3"
  },
  "language_info": {
   "codemirror_mode": {
    "name": "ipython",
    "version": 3
   },
   "file_extension": ".py",
   "mimetype": "text/x-python",
   "name": "python",
   "nbconvert_exporter": "python",
   "pygments_lexer": "ipython3",
   "version": "3.9.5"
  }
 },
 "nbformat": 4,
 "nbformat_minor": 5
}
